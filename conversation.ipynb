{
 "cells": [
  {
   "cell_type": "code",
   "execution_count": 20,
   "metadata": {},
   "outputs": [],
   "source": [
    "import openai\n",
    "import os\n",
    "from langchain.prompts import PromptTemplate\n",
    "from langchain.llms import OpenAI\n",
    "from langchain.chains import LLMChain\n",
    "import pandas as pd\n",
    "from langchain.llms import OpenAI\n",
    "os.environ[\"OPENAI_API_KEY\"] = input(\"请输入API-KEY\")\n",
    "os.environ[\"http_proxy\"] = \"http://localhost:7890\"\n",
    "os.environ[\"https_proxy\"] = \"http://localhost:7890\"\n",
    "# 用于加入搜索功能\n",
    "# os.environ[\"SERPAPI_API_KEY\"] = \"75fedecc5cd9801954afda5610ac7801e3ab7eeb01d9ae2fe393a00616e7d40a\""
   ]
  },
  {
   "cell_type": "code",
   "execution_count": 21,
   "metadata": {},
   "outputs": [],
   "source": [
    "# # 这是一段试试api连接的代码，可以用于测试llm是否给出回应\n",
    "# llm = OpenAI(temperature=0.9)\n",
    "# text = \"What would be a good company name for a company that makes colorful socks?\"\n",
    "# print(llm(text))"
   ]
  },
  {
   "cell_type": "code",
   "execution_count": 22,
   "metadata": {},
   "outputs": [],
   "source": [
    "from langchain.prompts import (\n",
    "    ChatPromptTemplate,\n",
    "    SystemMessagePromptTemplate,\n",
    "    HumanMessagePromptTemplate,\n",
    ")\n",
    "# 建立prompt模板\n",
    "template=\"You are my personal secretary assisting me in planning my schedule. Here is my current schedule: {schedule}.\"\n",
    "system_message_prompt = SystemMessagePromptTemplate.from_template(template)\n",
    "human_template=\"Now, here are my requirements: {intent}. Please fulfill the above requirements, make modifications to my schedule as necessary while maintaining the original format, and provide the updated schedule at the beginning. Your response should be strictly divided into two sections:\"\"Schedule:\"\" and \"\"Answer:\"\".\"\n",
    "human_message_prompt = HumanMessagePromptTemplate.from_template(human_template)\n",
    "chat_prompt = ChatPromptTemplate.from_messages([system_message_prompt, human_message_prompt])\n"
   ]
  },
  {
   "cell_type": "code",
   "execution_count": 23,
   "metadata": {},
   "outputs": [],
   "source": [
    "def extract_answer_and_schedule(text):\n",
    "    # 提取回答内容\n",
    "    schedule_start = text.index(\"Schedule:\") + len(\"Schedule:\")\n",
    "    schedule_end = text.index(\"Answer:\")\n",
    "    schedule = text[schedule_start:schedule_end].strip()\n",
    "\n",
    "    # 提取日程表内容\n",
    "    answer_start = text.index(\"Answer\") + len(\"Answer:\")\n",
    "    answer = text[answer_start:].strip()\n",
    "\n",
    "    return answer, schedule"
   ]
  },
  {
   "cell_type": "code",
   "execution_count": 24,
   "metadata": {},
   "outputs": [],
   "source": [
    "# 定义一个函数，用于将AI秘书回复的‘日程表’字符串转换为dataframe格式，并输出至csv\n",
    "import pandas as pd\n",
    "\n",
    "def parse_string_to_dataframe(string,filename):\n",
    "    lines = string.strip().split('\\n')  # 将字符串拆分成行\n",
    "    headers = lines[0].split()  # 获取表头\n",
    "    data = [line.split(maxsplit=3) for line in lines[1:]]  # 拆分行并限制拆分为4个部分\n",
    "    # 创建DataFrame\n",
    "    df = pd.DataFrame(data, columns=headers)\n",
    "    df.to_csv(f\"{filename}.csv\", index=False)\n",
    "    print(f\"更新后的日程数据已保存到文件: {filename}.csv\")"
   ]
  },
  {
   "cell_type": "code",
   "execution_count": 25,
   "metadata": {},
   "outputs": [
    {
     "name": "stderr",
     "output_type": "stream",
     "text": [
      "c:\\Users\\apple\\anaconda3\\lib\\site-packages\\langchain\\llms\\openai.py:169: UserWarning: You are trying to use a chat model. This way of initializing it is no longer supported. Instead, please use: `from langchain.chat_models import ChatOpenAI`\n",
      "  warnings.warn(\n",
      "c:\\Users\\apple\\anaconda3\\lib\\site-packages\\langchain\\llms\\openai.py:696: UserWarning: You are trying to use a chat model. This way of initializing it is no longer supported. Instead, please use: `from langchain.chat_models import ChatOpenAI`\n",
      "  warnings.warn(\n"
     ]
    },
    {
     "name": "stdout",
     "output_type": "stream",
     "text": [
      "您今天有两个日程安排，分别是午餐和会议。请您尽快确定午餐地点，并提前到达会议室准备开会。如果您需要进行任何修改，请随时告诉我。\n",
      "对话已结束\n",
      "更新后的日程数据已保存到文件: schedule1.csv\n"
     ]
    }
   ],
   "source": [
    "from langchain.chat_models import ChatOpenAI\n",
    "# 读取csv中的日程表信息\n",
    "sch_name = input(\"请输入日程表名称\")\n",
    "# sch_name = \"schedule1\"\n",
    "schedule = pd.read_csv(f\"{sch_name}.csv\").to_string(index=False)\n",
    "intent = input(f\"您好，我是您的AI秘书，我将根据您的日程表{sch_name}为您服务。\\n请问您有什么需要帮助的吗？\")\n",
    "# intent = \" What tasks do I have now?\"\n",
    "while True:\n",
    "    if intent != \"结束对话\":\n",
    "        chat_prompt.format_prompt(schedule = schedule, intent = intent).to_messages()\n",
    "        # 定义自然语言模型\n",
    "        llm = OpenAI(model_name=\"gpt-3.5-turbo\",max_tokens=1024,temperature=0.2)\n",
    "        # 创建链\n",
    "        from langchain.chains import LLMChain\n",
    "        chain = LLMChain(llm=llm, prompt = chat_prompt)\n",
    "        str = chain.run(schedule = schedule, intent = intent)\n",
    "        answer,schedule = extract_answer_and_schedule(str)\n",
    "        print(answer)\n",
    "        intent = input(\"若需结束对话，请输入\"\"结束对话\"\"\")\n",
    "    else:\n",
    "        print(\"对话已结束\")\n",
    "        parse_string_to_dataframe(schedule,sch_name)\n",
    "        break"
   ]
  },
  {
   "cell_type": "code",
   "execution_count": 29,
   "metadata": {},
   "outputs": [
    {
     "name": "stdout",
     "output_type": "stream",
     "text": [
      "事项         时间    地点                    备注\n",
      "午餐 2023-05-12 12:30  待定 和朋友一起吃午餐，地点还没有定好.\n",
      "会议 2023-05-12 14:00 办公室           持续两个小时.\n",
      "打羽毛球 2023-05-12 20:00 学校体育馆     和室友一起打羽毛球...\n"
     ]
    }
   ],
   "source": [
    "# 输出最后保存的日程表\n",
    "print(schedule)"
   ]
  }
 ],
 "metadata": {
  "kernelspec": {
   "display_name": "base",
   "language": "python",
   "name": "python3"
  },
  "language_info": {
   "codemirror_mode": {
    "name": "ipython",
    "version": 3
   },
   "file_extension": ".py",
   "mimetype": "text/x-python",
   "name": "python",
   "nbconvert_exporter": "python",
   "pygments_lexer": "ipython3",
   "version": "3.9.13"
  },
  "orig_nbformat": 4
 },
 "nbformat": 4,
 "nbformat_minor": 2
}
